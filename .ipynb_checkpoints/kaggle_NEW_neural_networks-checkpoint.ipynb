{
 "cells": [
  {
   "cell_type": "code",
   "execution_count": 115,
   "metadata": {
    "_cell_guid": "b1076dfc-b9ad-4769-8c92-a6c4dae69d19",
    "_uuid": "8f2839f25d086af736a60e9eeb907d3b93b6e0e5",
    "execution": {
     "iopub.execute_input": "2023-05-05T22:10:20.747503Z",
     "iopub.status.busy": "2023-05-05T22:10:20.747112Z",
     "iopub.status.idle": "2023-05-05T22:10:20.782027Z",
     "shell.execute_reply": "2023-05-05T22:10:20.780858Z",
     "shell.execute_reply.started": "2023-05-05T22:10:20.747470Z"
    }
   },
   "outputs": [],
   "source": [
    "# This Python 3 environment comes with many helpful analytics libraries installed\n",
    "# It is defined by the kaggle/python Docker image: https://github.com/kaggle/docker-python\n",
    "# For example, here's several helpful packages to load\n",
    "\n",
    "import numpy as np # linear algebra\n",
    "import pandas as pd # data processing, CSV file I/O (e.g. pd.read_csv)\n",
    "\n",
    "# Input data files are available in the read-only \"../input/\" directory\n",
    "# For example, running this (by clicking run or pressing Shift+Enter) will list all files under the input directory\n",
    "\n",
    "# import os\n",
    "# for dirname, _, filenames in os.walk('/kaggle/input'):\n",
    "#     for filename in filenames:\n",
    "#         print(os.path.join(dirname, filename))\n",
    "\n",
    "# You can write up to 20GB to the current directory (/kaggle/working/) that gets preserved as output when you create a version using \"Save & Run All\" \n",
    "# You can also write temporary files to /kaggle/temp/, but they won't be saved outside of the current session"
   ]
  },
  {
   "cell_type": "code",
   "execution_count": 116,
   "metadata": {},
   "outputs": [],
   "source": [
    "%matplotlib notebook\n",
    "\n",
    "#<GRADED>\n",
    "import numpy as np\n",
    "from numpy.matlib import repmat\n",
    "import sys\n",
    "import time\n",
    "import matplotlib\n",
    "import matplotlib.pyplot as plt\n",
    "import ipywidgets as widgets\n",
    "\n",
    "from scipy.stats import linregress\n",
    "\n",
    "# new torch imports\n",
    "import torch\n",
    "import torch.nn as nn\n",
    "import torch.optim as optim\n",
    "import torch.nn.functional as F\n",
    "\n",
    "# # new vision-dataset-related torch imports\n",
    "# import torchvision\n",
    "# import torchvision.datasets as dset\n",
    "# import torchvision.transforms as transforms\n",
    "\n",
    "# misc imports\n",
    "import random\n",
    "#</GRADED>"
   ]
  },
  {
   "cell_type": "markdown",
   "metadata": {},
   "source": [
    "Brainstorm:\n",
    "\n",
    "1. Before Training: Use PCA to reduce the number of features (Low priority)\n",
    "\n",
    "    1.1 Things such as the dog ID should not make a difference\n",
    "\n",
    "2. Training: \n",
    "\n",
    "    2.1 Use deep neutral network to train a model and make predictions\n",
    "    \n",
    "    2.2 Use boosting and bagging to improve the model (Low priority)\n",
    "\n",
    "3. Things to consider:\n",
    "\n",
    "    3.1 Need to choose loss functions\n",
    "    \n",
    "    3.2 We should numericalize and normalize all features. Need to come up with ways to represent things such as \"date of birth\" and \"N/A\" data entries as numbers.\n",
    "    \n"
   ]
  },
  {
   "cell_type": "markdown",
   "metadata": {},
   "source": [
    "# STEP 1: Data Loading and Cleaning"
   ]
  },
  {
   "cell_type": "code",
   "execution_count": 117,
   "metadata": {
    "execution": {
     "iopub.execute_input": "2023-05-05T22:10:20.811365Z",
     "iopub.status.busy": "2023-05-05T22:10:20.811001Z",
     "iopub.status.idle": "2023-05-05T22:10:20.873478Z",
     "shell.execute_reply": "2023-05-05T22:10:20.872591Z",
     "shell.execute_reply.started": "2023-05-05T22:10:20.811337Z"
    }
   },
   "outputs": [],
   "source": [
    "# Choose from LF, LH, RF, RH \n",
    "leg = \"RH\"\n",
    "\n",
    "x_file_name = leg + \"_train.csv\"\n",
    "\n",
    "x_lf = pd.read_csv(x_file_name)\n",
    "\n",
    "y_lf = x_lf[leg]\n",
    "\n"
   ]
  },
  {
   "cell_type": "code",
   "execution_count": 118,
   "metadata": {},
   "outputs": [],
   "source": [
    "def clean_up_my_data_bro(x_lf, leg = \"POTATO\", data_type = \"test\"):\n",
    "    \n",
    "    if data_type==\"test\":\n",
    "        x_lf = x_lf.drop(labels=[\"id\",\"dob\",\"forceplate_date\"], axis=1) # these should not matter\n",
    "    elif data_type==\"train\":\n",
    "        x_lf = x_lf.drop(labels=[\"id\",\"dob\",\"forceplate_date\",leg], axis=1) # these should not matter\n",
    "    else:\n",
    "        print(\"wrong data_type bro\")\n",
    "        \n",
    "    \n",
    "    # if gait is walk then 1 else -1\n",
    "    for i in range(0,len(x_lf['gait'])):\n",
    "        if x_lf['gait'][i] == \"Walk\":\n",
    "            x_lf['gait'][i] = 1\n",
    "        else:\n",
    "            x_lf['gait'][i]= -1\n",
    "    \n",
    "    \n",
    "    for i in range(0,len(x_lf['speed'])):\n",
    "        if x_lf['speed'][i] == \"Not able to walk\":\n",
    "            x_lf['speed'][i] = 0\n",
    "        if x_lf['speed'][i] == \"Not able to trot\":\n",
    "            x_lf['speed'][i] = -1\n",
    "\n",
    "    x_lf = np.array(x_lf)\n",
    "            \n",
    "    col_remove = []\n",
    "    print(\"x_training col number \", len(x_lf[0]))\n",
    "    \n",
    "    \n",
    "    for j in range(0,len(x_lf[0])):\n",
    "\n",
    "        col_sum =0\n",
    "        col_count =0\n",
    "\n",
    "        for i in range(0,len(x_lf)):\n",
    "            \n",
    "            if j==185:\n",
    "                if x_lf[i][j]==\"Trot\":\n",
    "                    x_lf[i][j]=1\n",
    "            \n",
    "            if x_lf[i][j]==\"Not able to trot\":\n",
    "                x_lf[i][j]=float(\"nan\")\n",
    "        \n",
    "            if x_lf[i][j]==\"no valid trials\":\n",
    "                x_lf[i][j]= float(\"nan\")\n",
    "        \n",
    "            if x_lf[i][j] == \"No Data\" or x_lf[i][j]==\"no data\":\n",
    "                x_lf[i][j] = float(\"nan\")\n",
    "\n",
    "\n",
    "            if isinstance(x_lf[i][j], str)==True:\n",
    "                #print(\"String, \" + str(x_lf[i][j]) +\", is converted to float\")\n",
    "                x_lf[i][j] = float(x_lf[i][j])    \n",
    "\n",
    "\n",
    "            \n",
    "            if np.isnan(x_lf[i][j])==False:\n",
    "                col_sum += x_lf[i][j]\n",
    "                col_count += 1\n",
    "\n",
    "\n",
    "        col_mean = col_sum/col_count\n",
    "        col_var = 0\n",
    "        \n",
    "        \n",
    "\n",
    "        for i in range(0,len(x_lf)):\n",
    "            if np.isnan(x_lf[i][j]):\n",
    "                #print(\"Nan, \" + str(x_lf[i][j]) +\", is set to the column mean\")\n",
    "                x_lf[i][j]=col_mean\n",
    "                \n",
    "            else:  \n",
    "                col_var += (x_lf[i][j]-col_mean)**2\n",
    "            \n",
    "\n",
    "        col_std = (col_var/float(col_count))**(1/2)\n",
    "\n",
    "        if col_std == 0:\n",
    "            col_remove.append(j) \n",
    "            col_std = 1\n",
    "            print(\"removed column \", j, \" bc all data are the same\")\n",
    "\n",
    "        x_lf[:,j] -= col_mean\n",
    "        x_lf[:,j] /= col_std\n",
    "    \n",
    "    \n",
    "\n",
    "    for i in col_remove:\n",
    "        x_lf = np.delete(x_lf,obj=i,axis=1)\n",
    "\n",
    "    print(\"x_lf and y_lf now has \" + str(len(x_lf[0])) + \" columns\")\n",
    "\n",
    "    x_lf2 = x_lf # Cleaned_Data\n",
    "    \n",
    "    # CLIPPING\n",
    "    \n",
    "    x_lf2 = np.clip(x_lf2,-2,2)\n",
    "    \n",
    "    return x_lf2\n"
   ]
  },
  {
   "cell_type": "code",
   "execution_count": 119,
   "metadata": {
    "execution": {
     "iopub.execute_input": "2023-05-05T22:10:20.875535Z",
     "iopub.status.busy": "2023-05-05T22:10:20.875032Z",
     "iopub.status.idle": "2023-05-05T22:10:20.891596Z",
     "shell.execute_reply": "2023-05-05T22:10:20.890701Z",
     "shell.execute_reply.started": "2023-05-05T22:10:20.875506Z"
    }
   },
   "outputs": [],
   "source": [
    "# x_lf = x_lf.drop(labels=[\"id\",\"dob\",\"forceplate_date\",\"RH\"], axis=1) # these should not matter\n"
   ]
  },
  {
   "cell_type": "code",
   "execution_count": 120,
   "metadata": {
    "execution": {
     "iopub.execute_input": "2023-05-05T22:10:20.904444Z",
     "iopub.status.busy": "2023-05-05T22:10:20.904075Z",
     "iopub.status.idle": "2023-05-05T22:10:20.909241Z",
     "shell.execute_reply": "2023-05-05T22:10:20.908038Z",
     "shell.execute_reply.started": "2023-05-05T22:10:20.904413Z"
    }
   },
   "outputs": [],
   "source": [
    "# for i in x_lf.columns:\n",
    "#     print(i)\n"
   ]
  },
  {
   "cell_type": "code",
   "execution_count": 121,
   "metadata": {},
   "outputs": [
    {
     "name": "stdout",
     "output_type": "stream",
     "text": [
      "x_training col number  367\n",
      "removed column  3  bc all data are the same\n",
      "removed column  185  bc all data are the same\n",
      "x_lf and y_lf now has 365 columns\n"
     ]
    },
    {
     "name": "stderr",
     "output_type": "stream",
     "text": [
      "<ipython-input-118-da01bc06e466>:14: SettingWithCopyWarning: \n",
      "A value is trying to be set on a copy of a slice from a DataFrame\n",
      "\n",
      "See the caveats in the documentation: https://pandas.pydata.org/pandas-docs/stable/user_guide/indexing.html#returning-a-view-versus-a-copy\n",
      "  x_lf['gait'][i] = 1\n"
     ]
    }
   ],
   "source": [
    "x_lf2 = clean_up_my_data_bro(x_lf, leg=leg, data_type = \"train\")"
   ]
  },
  {
   "cell_type": "code",
   "execution_count": 122,
   "metadata": {},
   "outputs": [],
   "source": [
    "# for i in x_lf2:\n",
    "#     for j in i:\n",
    "#         print(j)"
   ]
  },
  {
   "cell_type": "markdown",
   "metadata": {},
   "source": []
  },
  {
   "cell_type": "code",
   "execution_count": 123,
   "metadata": {
    "execution": {
     "iopub.execute_input": "2023-05-05T22:10:21.140719Z",
     "iopub.status.busy": "2023-05-05T22:10:21.140350Z",
     "iopub.status.idle": "2023-05-05T22:10:21.314984Z",
     "shell.execute_reply": "2023-05-05T22:10:21.313742Z",
     "shell.execute_reply.started": "2023-05-05T22:10:21.140690Z"
    }
   },
   "outputs": [],
   "source": [
    "# columns_to_plot = 70\n",
    "\n",
    "# x = np.arange(0,len(x_lf2))\n",
    "# y = x_lf2[:,columns_to_plot]\n",
    "\n",
    "# plt.scatter(x,y)\n",
    "# plt.show()"
   ]
  },
  {
   "cell_type": "code",
   "execution_count": 124,
   "metadata": {
    "execution": {
     "iopub.execute_input": "2023-05-05T22:10:21.317421Z",
     "iopub.status.busy": "2023-05-05T22:10:21.317116Z"
    }
   },
   "outputs": [],
   "source": [
    "# let labels be -1 and 1\n",
    "\n",
    "\n",
    "# for i in range(0,len(y_lf)):\n",
    "#     if y_lf[i]==0:\n",
    "#         y_lf[i]=-1\n",
    "\n",
    "y_lf2 = np.array(y_lf)"
   ]
  },
  {
   "cell_type": "markdown",
   "metadata": {},
   "source": [
    "# STEP 2: Train a Model"
   ]
  },
  {
   "cell_type": "markdown",
   "metadata": {},
   "source": [
    "# 2.1: Using P8 Code"
   ]
  },
  {
   "cell_type": "code",
   "execution_count": 125,
   "metadata": {},
   "outputs": [],
   "source": [
    "\n",
    "class MLPNet(nn.Module):\n",
    "    def __init__(self, input_dim, hidden_dims, output_dim=1):\n",
    "        super(MLPNet, self).__init__()\n",
    "        \"\"\" pytorch optimizer checks for the properties of the model, and if\n",
    "            the torch.nn.Parameter requires gradient, then the model will update\n",
    "            the parameters automatically.\n",
    "        \"\"\"\n",
    "        \n",
    "        layers = []\n",
    "        prev_dim = input_dim\n",
    "        for dim in hidden_dims:\n",
    "            layers.append(nn.Linear(prev_dim, dim))\n",
    "            layers.append(nn.ReLU())\n",
    "            prev_dim = dim\n",
    "\n",
    "        layers.append(nn.Linear(prev_dim, output_dim))\n",
    "        self.model = nn.Sequential(*layers)\n",
    "    \n",
    "    def forward(self, x):\n",
    "        return self.model(x)\n"
   ]
  },
  {
   "cell_type": "code",
   "execution_count": 126,
   "metadata": {},
   "outputs": [],
   "source": [
    "def softmax_probs(probs):\n",
    "    probs = torch.exp(probs)\n",
    "    sum_probs = torch.sum(probs, axis=-1, keepdims=True)\n",
    "    probs = probs/sum_probs\n",
    "    return probs"
   ]
  },
  {
   "cell_type": "code",
   "execution_count": 127,
   "metadata": {},
   "outputs": [],
   "source": [
    "# # Training function\n",
    "# #<GRADED>\n",
    "# def train_classification_model( x, y, model, num_epochs, lr=1e-1, print_freq=100):\n",
    "#     \"\"\"Train loop for a neural network model. Please use the SGD optimizer, optim.SGD.\n",
    "    \n",
    "#     Input:\n",
    "#         train_loader:    Data loader for the train set. \n",
    "#                          Enumerate through to train with each batch.\n",
    "#         model:           nn.Model to be trained\n",
    "#         num_epochs:      number of epochs to train the model for\n",
    "#         lr:              learning rate for the optimizer\n",
    "#         print_freq:      frequency to display the loss\n",
    "    \n",
    "#     Output:\n",
    "#         model:   nn.Module trained model\n",
    "#     \"\"\"\n",
    "#     optimizer = optim.SGD(model.parameters(), lr=lr)  # create an SGD optimizer for the model parameters\n",
    "#     for epoch in range(num_epochs):\n",
    "#         loss = 0\n",
    "\n",
    "#         # Iterate through the dataloader for each epoch\n",
    "#         #for batch_idx, (imgs, labels) in enumerate(train_loader):\n",
    "#         for i in range(len(x)):\n",
    "#             # imgs (torch.Tensor):    batch of input images\n",
    "#             # labels (torch.Tensor):  batch labels corresponding to the inputs\n",
    "            \n",
    "#             # Implement the training loop using imgs, labels, and cross entropy loss\n",
    "            \n",
    "#             imgs = torch.tensor(x[i].astype(np.float32))\n",
    "#             labels = torch.tensor(y[i].astype(np.float32)).long()\n",
    "            \n",
    "            \n",
    "            \n",
    "#             optimizer.zero_grad()\n",
    "#             preds = model(imgs)\n",
    "#             preds = softmax_probs(preds)\n",
    "#             loss += nn.functional.cross_entropy(preds, labels)\n",
    "#             #loss = mse_loss(preds, labels)\n",
    "# #             loss = nn.BCELoss(preds, labels)\n",
    "#         loss.backward()\n",
    "#         optimizer.step()\n",
    "            \n",
    "            \n",
    "#         if (epoch + 1) % print_freq == 0:\n",
    "#             print(preds)\n",
    "#             print('epoch {} loss {}'.format(epoch+1, loss.item()))\n",
    "    \n",
    "#         loss = 0\n",
    "#     return model  # return trained model\n",
    "# #</GRADED>"
   ]
  },
  {
   "cell_type": "code",
   "execution_count": 128,
   "metadata": {},
   "outputs": [],
   "source": [
    "def train_classification_model(x, y, model, num_epochs, lr=1e-1, print_freq=100, batch_size=10):\n",
    "    \"\"\"Train loop for a neural network model. Please use the SGD optimizer, optim.SGD.\n",
    "    \n",
    "    Input:\n",
    "        train_loader:    Data loader for the train set. \n",
    "                         Enumerate through to train with each batch.\n",
    "        model:           nn.Model to be trained\n",
    "        num_epochs:      number of epochs to train the model for\n",
    "        lr:              learning rate for the optimizer\n",
    "        print_freq:      frequency to display the loss\n",
    "    \n",
    "    Output:\n",
    "        model:   nn.Module trained model\n",
    "    \"\"\"\n",
    "    n, d = x.shape\n",
    "    optimizer = optim.SGD(model.parameters(), lr=lr)  # create an SGD optimizer for the model parameters\n",
    "    for epoch in range(num_epochs):\n",
    "        batch_ids = np.random.choice(n, batch_size, replace=False)\n",
    "        x_batch = torch.tensor(x[batch_ids].astype(np.float32))\n",
    "        y_batch = torch.tensor(y[batch_ids].astype(np.float32)).long()\n",
    "        \n",
    "        optimizer.zero_grad()\n",
    "        preds = model(x_batch)\n",
    "        preds = softmax_probs(preds)\n",
    "        loss = nn.functional.cross_entropy(preds, y_batch)\n",
    "        loss.backward()\n",
    "        optimizer.step()\n",
    "            \n",
    "        if (epoch + 1) % print_freq == 0:\n",
    "#             print(preds)\n",
    "            print('epoch {} loss {}'.format(epoch+1, loss.item()))\n",
    "            \n",
    "    return model  # return trained model"
   ]
  },
  {
   "cell_type": "code",
   "execution_count": 129,
   "metadata": {},
   "outputs": [],
   "source": [
    "def mse_loss(y_pred, y_true):\n",
    "    square_diff = torch.pow((y_pred-y_true), 2)\n",
    "    mean_error = 0.5 * torch.mean(square_diff)\n",
    "    return mean_error"
   ]
  },
  {
   "cell_type": "code",
   "execution_count": null,
   "metadata": {},
   "outputs": [],
   "source": []
  },
  {
   "cell_type": "code",
   "execution_count": 130,
   "metadata": {},
   "outputs": [],
   "source": [
    "# Test function\n",
    "#<GRADED>\n",
    "def test_classification_model(x,y, model):\n",
    "    \"\"\"Tests the accuracy of the model.\n",
    "    \n",
    "    Input:\n",
    "        test_loader:      Data loader for the test set. \n",
    "                          Enumerate through to test each example.\n",
    "        model:            nn.Module model being evaluate.\n",
    "        \n",
    "    Output:\n",
    "        accuracy:         Accuracy of the model on the test set.\n",
    "    \"\"\"\n",
    "    # Compute the model accuracy\n",
    "    \n",
    "    accuracy = 0\n",
    "    \n",
    "    numer = 0 \n",
    "    demon = 0\n",
    "    \n",
    "    preds = model(torch.tensor(x.astype(np.float32)))\n",
    "    pred_lf = softmax_probs(preds)\n",
    "    results = torch.argmax(pred_lf, axis=1).numpy()\n",
    "    print(results)\n",
    "    print(y)\n",
    "    numer = np.sum(results == y)\n",
    "    denom = len(y)\n",
    "    return numer / denom\n",
    "    \n",
    "    \n",
    "    #for batch_idx, (imgs, labels) in enumerate(test_loader):\n",
    "    for i in range(len(x)):\n",
    "        \n",
    "        vector = torch.tensor(x[i].astype(np.float32))\n",
    "        label = torch.tensor(y[i].astype(np.float32)).long()\n",
    "        \n",
    "        pred = model(vector)\n",
    "        \n",
    "        #preds = np.round(preds.numpy())\n",
    "        \n",
    "        labels = labels.numpy()\n",
    "        \n",
    "        numer+= np.sum(preds.numpy() == labels)\n",
    "        demon+= np.size(preds.numpy())\n",
    "\n",
    "    accuracy = numer/demon\n",
    "    \n",
    "    \n",
    "    return accuracy\n",
    "#</GRADED>"
   ]
  },
  {
   "cell_type": "code",
   "execution_count": 131,
   "metadata": {},
   "outputs": [
    {
     "name": "stdout",
     "output_type": "stream",
     "text": [
      "x_training col number  367\n",
      "removed column  3  bc all data are the same\n",
      "removed column  185  bc all data are the same\n",
      "x_lf and y_lf now has 365 columns\n"
     ]
    },
    {
     "name": "stderr",
     "output_type": "stream",
     "text": [
      "<ipython-input-118-da01bc06e466>:14: SettingWithCopyWarning: \n",
      "A value is trying to be set on a copy of a slice from a DataFrame\n",
      "\n",
      "See the caveats in the documentation: https://pandas.pydata.org/pandas-docs/stable/user_guide/indexing.html#returning-a-view-versus-a-copy\n",
      "  x_lf['gait'][i] = 1\n",
      "<ipython-input-118-da01bc06e466>:21: SettingWithCopyWarning: \n",
      "A value is trying to be set on a copy of a slice from a DataFrame\n",
      "\n",
      "See the caveats in the documentation: https://pandas.pydata.org/pandas-docs/stable/user_guide/indexing.html#returning-a-view-versus-a-copy\n",
      "  x_lf['speed'][i] = 0\n"
     ]
    }
   ],
   "source": [
    "test_file_name = leg + \"_test.csv\"\n",
    "\n",
    "t_lf = pd.read_csv(test_file_name)\n",
    "\n",
    "t_id_arr = np.array(t_lf['id'])\n",
    "\n",
    "t_lf2 = clean_up_my_data_bro(t_lf, leg, data_type=\"test\")"
   ]
  },
  {
   "cell_type": "code",
   "execution_count": 132,
   "metadata": {},
   "outputs": [
    {
     "name": "stdout",
     "output_type": "stream",
     "text": [
      "epoch 100 loss 0.7155368328094482\n",
      "epoch 200 loss 0.7069039344787598\n",
      "epoch 300 loss 0.6758319139480591\n",
      "epoch 400 loss 0.667433500289917\n",
      "epoch 500 loss 0.6432809829711914\n",
      "epoch 600 loss 0.5934021472930908\n",
      "epoch 700 loss 0.570562481880188\n",
      "epoch 800 loss 0.5395019054412842\n",
      "epoch 900 loss 0.4911775588989258\n",
      "epoch 1000 loss 0.45344844460487366\n",
      "epoch 1100 loss 0.4277164936065674\n",
      "epoch 1200 loss 0.4145854413509369\n",
      "epoch 1300 loss 0.37584030628204346\n",
      "epoch 1400 loss 0.37347984313964844\n",
      "epoch 1500 loss 0.36321157217025757\n",
      "epoch 1600 loss 0.347774475812912\n",
      "epoch 1700 loss 0.3531357944011688\n",
      "epoch 1800 loss 0.3379807770252228\n",
      "epoch 1900 loss 0.3343455195426941\n",
      "epoch 2000 loss 0.3331158757209778\n",
      "epoch 2100 loss 0.3316533863544464\n",
      "epoch 2200 loss 0.33292239904403687\n",
      "epoch 2300 loss 0.3252294361591339\n",
      "epoch 2400 loss 0.32556718587875366\n",
      "epoch 2500 loss 0.3286602795124054\n",
      "epoch 2600 loss 0.32380276918411255\n",
      "epoch 2700 loss 0.3208160996437073\n",
      "epoch 2800 loss 0.32233649492263794\n",
      "epoch 2900 loss 0.3203139305114746\n",
      "epoch 3000 loss 0.32005396485328674\n",
      "epoch 3100 loss 0.31860560178756714\n",
      "epoch 3200 loss 0.3226824998855591\n",
      "epoch 3300 loss 0.3193952143192291\n",
      "epoch 3400 loss 0.3192983567714691\n",
      "epoch 3500 loss 0.32007673382759094\n",
      "epoch 3600 loss 0.31853577494621277\n",
      "epoch 3700 loss 0.31817910075187683\n",
      "epoch 3800 loss 0.31710925698280334\n",
      "epoch 3900 loss 0.3173554837703705\n",
      "epoch 4000 loss 0.31577450037002563\n",
      "epoch 4100 loss 0.3158645033836365\n",
      "epoch 4200 loss 0.31671029329299927\n",
      "epoch 4300 loss 0.31640657782554626\n",
      "epoch 4400 loss 0.3151880204677582\n",
      "epoch 4500 loss 0.3165457248687744\n",
      "epoch 4600 loss 0.315167635679245\n",
      "epoch 4700 loss 0.315330445766449\n",
      "epoch 4800 loss 0.3157913088798523\n",
      "epoch 4900 loss 0.3158889710903168\n",
      "epoch 5000 loss 0.31668081879615784\n"
     ]
    }
   ],
   "source": [
    "\n",
    "hidden_dims = [20, 10]\n",
    "num_epochs = 5000\n",
    "lr = 1e-2\n",
    "\n",
    "x, y = x_lf2, y_lf2\n",
    "\n",
    "\n",
    "# n, d = x.shape\n",
    "# learn_boundary = int(n * 0.75)\n",
    "# permutation = np.random.permutation(n)\n",
    "# x_shuffled = x[permutation]\n",
    "# y_shuffled = y[permutation]\n",
    "# x_tr = x_shuffled[:learn_boundary]\n",
    "# y_tr = y_shuffled[:learn_boundary]\n",
    "# x_te = x_shuffled[learn_boundary:]\n",
    "# y_te = y_shuffled[learn_boundary:]\n",
    "\n",
    "\n",
    "mlp_model = MLPNet(input_dim=365, hidden_dims=hidden_dims, output_dim=2)\n",
    "# mlp_model = train_classification_model(x_tr, y_tr, mlp_model, num_epochs=num_epochs, lr=lr)\n",
    "mlp_model = train_classification_model(x_lf2, y_lf2, mlp_model, num_epochs=num_epochs, lr=lr,batch_size=20)\n",
    "\n",
    "# print('the number of parameters', sum(parameter.view(-1).size()[0] for parameter in mlp_model.parameters()))\n",
    "\n"
   ]
  },
  {
   "cell_type": "code",
   "execution_count": 133,
   "metadata": {},
   "outputs": [],
   "source": [
    "# test_classification_model(x_te, y_te, mlp_model)"
   ]
  },
  {
   "cell_type": "code",
   "execution_count": 134,
   "metadata": {},
   "outputs": [],
   "source": [
    "t_lf2= torch.tensor(t_lf2.astype(np.float32))\n",
    "\n",
    "pred_lf = mlp_model(t_lf2)"
   ]
  },
  {
   "cell_type": "code",
   "execution_count": 135,
   "metadata": {},
   "outputs": [
    {
     "name": "stdout",
     "output_type": "stream",
     "text": [
      "[0 0 0 0 1 0 0 0 0 0 1 1 0 1 0 0 1 0 1 1 1 1 0 1 0 1 0 0 0 0 0 1 0 1 0 0 1\n",
      " 0 0 1 0 0 0 1 0 1 0 0 0 1 0 1 1 0 1 0 0 0 0 0 1 1 0 0 1 0 1 1 0 1 1 0 0 0]\n"
     ]
    }
   ],
   "source": [
    "# print(y_lf2)\n",
    "# print(pred_lf)\n",
    "pred_lf = softmax_probs(pred_lf)\n",
    "# print(pred_lf)\n",
    "results = torch.argmax(pred_lf, axis=1).numpy()\n",
    "print(results)"
   ]
  },
  {
   "cell_type": "code",
   "execution_count": 136,
   "metadata": {},
   "outputs": [],
   "source": [
    "final_lf = results"
   ]
  },
  {
   "cell_type": "markdown",
   "metadata": {},
   "source": [
    "# STEP 2.2: Use sklearn"
   ]
  },
  {
   "cell_type": "code",
   "execution_count": 137,
   "metadata": {},
   "outputs": [],
   "source": [
    "from sklearn.ensemble import AdaBoostClassifier\n",
    "from sklearn.neural_network import MLPClassifier # Strength of the L2 regularization term\n",
    "\n",
    "hidden_layer_sizes = (20,10)\n",
    "alpha = 1e-5 \n",
    "batch_size = 20\n",
    "max_iter = 5000\n",
    "solver = \"adam\" # solver{‘lbfgs’} will not use mini-batches\n",
    "\n",
    "# random_state is a hyper parameter but prolly not important\n",
    "\n",
    "\n",
    "mlp = MLPClassifier(solver=solver, alpha=alpha, activation = 'relu',\n",
    "                     hidden_layer_sizes=hidden_layer_sizes, random_state=None,batch_size =batch_size, max_iter = max_iter)\n",
    "\n",
    "model = mlp.fit(x_lf2, y_lf2)\n",
    "\n"
   ]
  },
  {
   "cell_type": "code",
   "execution_count": 138,
   "metadata": {},
   "outputs": [
    {
     "name": "stdout",
     "output_type": "stream",
     "text": [
      "[0 0 0 1 1 0 0 0 0 0 1 1 0 1 0 0 1 0 1 1 1 1 0 1 0 1 0 0 0 0 0 1 0 1 0 0 1\n",
      " 0 0 1 0 0 0 1 0 1 0 0 0 1 0 1 1 0 1 0 0 0 0 0 1 1 0 1 1 0 0 1 0 1 1 0 0 0]\n"
     ]
    }
   ],
   "source": [
    "sk_result = model.predict(t_lf2)\n",
    "print(sk_result)"
   ]
  },
  {
   "cell_type": "code",
   "execution_count": 139,
   "metadata": {},
   "outputs": [
    {
     "name": "stdout",
     "output_type": "stream",
     "text": [
      "checking the differences between P8 code and sk_learn base estimator\n"
     ]
    },
    {
     "data": {
      "text/plain": [
       "array([ 0,  0,  0,  1,  0,  0,  0,  0,  0,  0,  0,  0,  0,  0,  0,  0,  0,\n",
       "        0,  0,  0,  0,  0,  0,  0,  0,  0,  0,  0,  0,  0,  0,  0,  0,  0,\n",
       "        0,  0,  0,  0,  0,  0,  0,  0,  0,  0,  0,  0,  0,  0,  0,  0,  0,\n",
       "        0,  0,  0,  0,  0,  0,  0,  0,  0,  0,  0,  0,  1,  0,  0, -1,  0,\n",
       "        0,  0,  0,  0,  0,  0])"
      ]
     },
     "execution_count": 139,
     "metadata": {},
     "output_type": "execute_result"
    }
   ],
   "source": [
    "print(\"checking the differences between P8 code and sk_learn base estimator\")\n",
    "np.array(sk_result)-np.array(results)"
   ]
  },
  {
   "cell_type": "code",
   "execution_count": 140,
   "metadata": {},
   "outputs": [],
   "source": [
    "# Now use adaboost\n",
    "from sklearn.model_selection import train_test_split\n",
    "from sklearn.metrics import accuracy_score\n",
    "\n",
    "# more hyper parameters\n",
    "learning_rate = 1\n",
    "n_estimators = 50\n",
    "\n",
    "# Doesn't work; see below\n",
    "#ada_boost = AdaBoostClassifier(base_estimator=mlp, n_estimators=n_estimators, \n",
    "#                               random_state=None, learning_rate = learning_rate)\n",
    "\n"
   ]
  },
  {
   "cell_type": "code",
   "execution_count": 141,
   "metadata": {},
   "outputs": [],
   "source": [
    "# THIS DOESN'T WORK\n",
    "# https://stackoverflow.com/questions/55632010/using-scikit-learns-mlpclassifier-in-adaboostclassifier\n",
    "\n",
    "# ada_boost.fit(x_lf2,y_lf2)"
   ]
  },
  {
   "cell_type": "code",
   "execution_count": 142,
   "metadata": {},
   "outputs": [],
   "source": [
    "# stackoverflow + chat gpt; perhaps u can use gpt4 lol\n",
    "\n",
    "class customMLPClassifer(MLPClassifier):\n",
    "    \n",
    "    def __init__(self, hidden_layer_sizes, alpha, batch_size, max_iter,solver,random_state):\n",
    "        \n",
    "        super().__init__(hidden_layer_sizes=hidden_layer_sizes, alpha=alpha, \n",
    "                         batch_size=batch_size, \n",
    "                         max_iter=max_iter, \n",
    "                         solver=solver, \n",
    "                         random_state=random_state)\n",
    "        \n",
    "        # hopefully this works\n",
    "    \n",
    "    \n",
    "    def resample_with_replacement(self, X_train, y_train, sample_weight):\n",
    "\n",
    "        # normalize sample_weights if not already\n",
    "        sample_weight = sample_weight / sample_weight.sum(dtype=np.float64)\n",
    "\n",
    "        X_train_resampled = np.zeros((len(X_train), len(X_train[0])), dtype=np.float32)\n",
    "        y_train_resampled = np.zeros((len(y_train)), dtype=np.int)\n",
    "        for i in range(len(X_train)):\n",
    "            # draw a number from 0 to len(X_train)-1\n",
    "            draw = np.random.choice(np.arange(len(X_train)), p=sample_weight)\n",
    "\n",
    "            # place the X and y at the drawn number into the resampled X and y\n",
    "            X_train_resampled[i] = X_train[draw]\n",
    "            y_train_resampled[i] = y_train[draw]\n",
    "\n",
    "        return X_train_resampled, y_train_resampled\n",
    "\n",
    "\n",
    "    def fit(self, X, y, sample_weight=None):\n",
    "        if sample_weight is not None:\n",
    "            X, y = self.resample_with_replacement(X, y, sample_weight)\n",
    "\n",
    "        return self._fit(X, y, incremental=(self.warm_start and\n",
    "                                            hasattr(self, \"classes_\")))\n",
    "        "
   ]
  },
  {
   "cell_type": "code",
   "execution_count": null,
   "metadata": {},
   "outputs": [],
   "source": []
  },
  {
   "cell_type": "code",
   "execution_count": 143,
   "metadata": {},
   "outputs": [],
   "source": [
    "# custom_mlp = customMLPClassifer()\n",
    "\n",
    "\n",
    "base_estimator = customMLPClassifer(solver=solver, alpha=alpha, \n",
    "                     hidden_layer_sizes=hidden_layer_sizes, random_state=None,batch_size =batch_size, max_iter = max_iter)\n",
    "\n",
    "adabooster = AdaBoostClassifier(base_estimator= base_estimator, \n",
    "                                n_estimators=n_estimators, \n",
    "                               random_state=None, learning_rate = learning_rate)"
   ]
  },
  {
   "cell_type": "code",
   "execution_count": 144,
   "metadata": {},
   "outputs": [
    {
     "name": "stderr",
     "output_type": "stream",
     "text": [
      "<ipython-input-142-b87a0d6a7f67>:22: DeprecationWarning: `np.int` is a deprecated alias for the builtin `int`. To silence this warning, use `int` by itself. Doing this will not modify any behavior and is safe. When replacing `np.int`, you may wish to use e.g. `np.int64` or `np.int32` to specify the precision. If you wish to review your current use, check the release note link for additional information.\n",
      "Deprecated in NumPy 1.20; for more details and guidance: https://numpy.org/devdocs/release/1.20.0-notes.html#deprecations\n",
      "  y_train_resampled = np.zeros((len(y_train)), dtype=np.int)\n",
      "<ipython-input-142-b87a0d6a7f67>:22: DeprecationWarning: `np.int` is a deprecated alias for the builtin `int`. To silence this warning, use `int` by itself. Doing this will not modify any behavior and is safe. When replacing `np.int`, you may wish to use e.g. `np.int64` or `np.int32` to specify the precision. If you wish to review your current use, check the release note link for additional information.\n",
      "Deprecated in NumPy 1.20; for more details and guidance: https://numpy.org/devdocs/release/1.20.0-notes.html#deprecations\n",
      "  y_train_resampled = np.zeros((len(y_train)), dtype=np.int)\n",
      "<ipython-input-142-b87a0d6a7f67>:22: DeprecationWarning: `np.int` is a deprecated alias for the builtin `int`. To silence this warning, use `int` by itself. Doing this will not modify any behavior and is safe. When replacing `np.int`, you may wish to use e.g. `np.int64` or `np.int32` to specify the precision. If you wish to review your current use, check the release note link for additional information.\n",
      "Deprecated in NumPy 1.20; for more details and guidance: https://numpy.org/devdocs/release/1.20.0-notes.html#deprecations\n",
      "  y_train_resampled = np.zeros((len(y_train)), dtype=np.int)\n",
      "<ipython-input-142-b87a0d6a7f67>:22: DeprecationWarning: `np.int` is a deprecated alias for the builtin `int`. To silence this warning, use `int` by itself. Doing this will not modify any behavior and is safe. When replacing `np.int`, you may wish to use e.g. `np.int64` or `np.int32` to specify the precision. If you wish to review your current use, check the release note link for additional information.\n",
      "Deprecated in NumPy 1.20; for more details and guidance: https://numpy.org/devdocs/release/1.20.0-notes.html#deprecations\n",
      "  y_train_resampled = np.zeros((len(y_train)), dtype=np.int)\n",
      "<ipython-input-142-b87a0d6a7f67>:22: DeprecationWarning: `np.int` is a deprecated alias for the builtin `int`. To silence this warning, use `int` by itself. Doing this will not modify any behavior and is safe. When replacing `np.int`, you may wish to use e.g. `np.int64` or `np.int32` to specify the precision. If you wish to review your current use, check the release note link for additional information.\n",
      "Deprecated in NumPy 1.20; for more details and guidance: https://numpy.org/devdocs/release/1.20.0-notes.html#deprecations\n",
      "  y_train_resampled = np.zeros((len(y_train)), dtype=np.int)\n",
      "<ipython-input-142-b87a0d6a7f67>:22: DeprecationWarning: `np.int` is a deprecated alias for the builtin `int`. To silence this warning, use `int` by itself. Doing this will not modify any behavior and is safe. When replacing `np.int`, you may wish to use e.g. `np.int64` or `np.int32` to specify the precision. If you wish to review your current use, check the release note link for additional information.\n",
      "Deprecated in NumPy 1.20; for more details and guidance: https://numpy.org/devdocs/release/1.20.0-notes.html#deprecations\n",
      "  y_train_resampled = np.zeros((len(y_train)), dtype=np.int)\n",
      "<ipython-input-142-b87a0d6a7f67>:22: DeprecationWarning: `np.int` is a deprecated alias for the builtin `int`. To silence this warning, use `int` by itself. Doing this will not modify any behavior and is safe. When replacing `np.int`, you may wish to use e.g. `np.int64` or `np.int32` to specify the precision. If you wish to review your current use, check the release note link for additional information.\n",
      "Deprecated in NumPy 1.20; for more details and guidance: https://numpy.org/devdocs/release/1.20.0-notes.html#deprecations\n",
      "  y_train_resampled = np.zeros((len(y_train)), dtype=np.int)\n",
      "<ipython-input-142-b87a0d6a7f67>:22: DeprecationWarning: `np.int` is a deprecated alias for the builtin `int`. To silence this warning, use `int` by itself. Doing this will not modify any behavior and is safe. When replacing `np.int`, you may wish to use e.g. `np.int64` or `np.int32` to specify the precision. If you wish to review your current use, check the release note link for additional information.\n",
      "Deprecated in NumPy 1.20; for more details and guidance: https://numpy.org/devdocs/release/1.20.0-notes.html#deprecations\n",
      "  y_train_resampled = np.zeros((len(y_train)), dtype=np.int)\n",
      "<ipython-input-142-b87a0d6a7f67>:22: DeprecationWarning: `np.int` is a deprecated alias for the builtin `int`. To silence this warning, use `int` by itself. Doing this will not modify any behavior and is safe. When replacing `np.int`, you may wish to use e.g. `np.int64` or `np.int32` to specify the precision. If you wish to review your current use, check the release note link for additional information.\n",
      "Deprecated in NumPy 1.20; for more details and guidance: https://numpy.org/devdocs/release/1.20.0-notes.html#deprecations\n",
      "  y_train_resampled = np.zeros((len(y_train)), dtype=np.int)\n",
      "<ipython-input-142-b87a0d6a7f67>:22: DeprecationWarning: `np.int` is a deprecated alias for the builtin `int`. To silence this warning, use `int` by itself. Doing this will not modify any behavior and is safe. When replacing `np.int`, you may wish to use e.g. `np.int64` or `np.int32` to specify the precision. If you wish to review your current use, check the release note link for additional information.\n",
      "Deprecated in NumPy 1.20; for more details and guidance: https://numpy.org/devdocs/release/1.20.0-notes.html#deprecations\n",
      "  y_train_resampled = np.zeros((len(y_train)), dtype=np.int)\n",
      "<ipython-input-142-b87a0d6a7f67>:22: DeprecationWarning: `np.int` is a deprecated alias for the builtin `int`. To silence this warning, use `int` by itself. Doing this will not modify any behavior and is safe. When replacing `np.int`, you may wish to use e.g. `np.int64` or `np.int32` to specify the precision. If you wish to review your current use, check the release note link for additional information.\n",
      "Deprecated in NumPy 1.20; for more details and guidance: https://numpy.org/devdocs/release/1.20.0-notes.html#deprecations\n",
      "  y_train_resampled = np.zeros((len(y_train)), dtype=np.int)\n",
      "<ipython-input-142-b87a0d6a7f67>:22: DeprecationWarning: `np.int` is a deprecated alias for the builtin `int`. To silence this warning, use `int` by itself. Doing this will not modify any behavior and is safe. When replacing `np.int`, you may wish to use e.g. `np.int64` or `np.int32` to specify the precision. If you wish to review your current use, check the release note link for additional information.\n",
      "Deprecated in NumPy 1.20; for more details and guidance: https://numpy.org/devdocs/release/1.20.0-notes.html#deprecations\n",
      "  y_train_resampled = np.zeros((len(y_train)), dtype=np.int)\n",
      "<ipython-input-142-b87a0d6a7f67>:22: DeprecationWarning: `np.int` is a deprecated alias for the builtin `int`. To silence this warning, use `int` by itself. Doing this will not modify any behavior and is safe. When replacing `np.int`, you may wish to use e.g. `np.int64` or `np.int32` to specify the precision. If you wish to review your current use, check the release note link for additional information.\n",
      "Deprecated in NumPy 1.20; for more details and guidance: https://numpy.org/devdocs/release/1.20.0-notes.html#deprecations\n",
      "  y_train_resampled = np.zeros((len(y_train)), dtype=np.int)\n",
      "<ipython-input-142-b87a0d6a7f67>:22: DeprecationWarning: `np.int` is a deprecated alias for the builtin `int`. To silence this warning, use `int` by itself. Doing this will not modify any behavior and is safe. When replacing `np.int`, you may wish to use e.g. `np.int64` or `np.int32` to specify the precision. If you wish to review your current use, check the release note link for additional information.\n",
      "Deprecated in NumPy 1.20; for more details and guidance: https://numpy.org/devdocs/release/1.20.0-notes.html#deprecations\n",
      "  y_train_resampled = np.zeros((len(y_train)), dtype=np.int)\n"
     ]
    },
    {
     "name": "stderr",
     "output_type": "stream",
     "text": [
      "<ipython-input-142-b87a0d6a7f67>:22: DeprecationWarning: `np.int` is a deprecated alias for the builtin `int`. To silence this warning, use `int` by itself. Doing this will not modify any behavior and is safe. When replacing `np.int`, you may wish to use e.g. `np.int64` or `np.int32` to specify the precision. If you wish to review your current use, check the release note link for additional information.\n",
      "Deprecated in NumPy 1.20; for more details and guidance: https://numpy.org/devdocs/release/1.20.0-notes.html#deprecations\n",
      "  y_train_resampled = np.zeros((len(y_train)), dtype=np.int)\n",
      "<ipython-input-142-b87a0d6a7f67>:22: DeprecationWarning: `np.int` is a deprecated alias for the builtin `int`. To silence this warning, use `int` by itself. Doing this will not modify any behavior and is safe. When replacing `np.int`, you may wish to use e.g. `np.int64` or `np.int32` to specify the precision. If you wish to review your current use, check the release note link for additional information.\n",
      "Deprecated in NumPy 1.20; for more details and guidance: https://numpy.org/devdocs/release/1.20.0-notes.html#deprecations\n",
      "  y_train_resampled = np.zeros((len(y_train)), dtype=np.int)\n",
      "<ipython-input-142-b87a0d6a7f67>:22: DeprecationWarning: `np.int` is a deprecated alias for the builtin `int`. To silence this warning, use `int` by itself. Doing this will not modify any behavior and is safe. When replacing `np.int`, you may wish to use e.g. `np.int64` or `np.int32` to specify the precision. If you wish to review your current use, check the release note link for additional information.\n",
      "Deprecated in NumPy 1.20; for more details and guidance: https://numpy.org/devdocs/release/1.20.0-notes.html#deprecations\n",
      "  y_train_resampled = np.zeros((len(y_train)), dtype=np.int)\n",
      "<ipython-input-142-b87a0d6a7f67>:22: DeprecationWarning: `np.int` is a deprecated alias for the builtin `int`. To silence this warning, use `int` by itself. Doing this will not modify any behavior and is safe. When replacing `np.int`, you may wish to use e.g. `np.int64` or `np.int32` to specify the precision. If you wish to review your current use, check the release note link for additional information.\n",
      "Deprecated in NumPy 1.20; for more details and guidance: https://numpy.org/devdocs/release/1.20.0-notes.html#deprecations\n",
      "  y_train_resampled = np.zeros((len(y_train)), dtype=np.int)\n",
      "<ipython-input-142-b87a0d6a7f67>:22: DeprecationWarning: `np.int` is a deprecated alias for the builtin `int`. To silence this warning, use `int` by itself. Doing this will not modify any behavior and is safe. When replacing `np.int`, you may wish to use e.g. `np.int64` or `np.int32` to specify the precision. If you wish to review your current use, check the release note link for additional information.\n",
      "Deprecated in NumPy 1.20; for more details and guidance: https://numpy.org/devdocs/release/1.20.0-notes.html#deprecations\n",
      "  y_train_resampled = np.zeros((len(y_train)), dtype=np.int)\n",
      "<ipython-input-142-b87a0d6a7f67>:22: DeprecationWarning: `np.int` is a deprecated alias for the builtin `int`. To silence this warning, use `int` by itself. Doing this will not modify any behavior and is safe. When replacing `np.int`, you may wish to use e.g. `np.int64` or `np.int32` to specify the precision. If you wish to review your current use, check the release note link for additional information.\n",
      "Deprecated in NumPy 1.20; for more details and guidance: https://numpy.org/devdocs/release/1.20.0-notes.html#deprecations\n",
      "  y_train_resampled = np.zeros((len(y_train)), dtype=np.int)\n",
      "<ipython-input-142-b87a0d6a7f67>:22: DeprecationWarning: `np.int` is a deprecated alias for the builtin `int`. To silence this warning, use `int` by itself. Doing this will not modify any behavior and is safe. When replacing `np.int`, you may wish to use e.g. `np.int64` or `np.int32` to specify the precision. If you wish to review your current use, check the release note link for additional information.\n",
      "Deprecated in NumPy 1.20; for more details and guidance: https://numpy.org/devdocs/release/1.20.0-notes.html#deprecations\n",
      "  y_train_resampled = np.zeros((len(y_train)), dtype=np.int)\n",
      "<ipython-input-142-b87a0d6a7f67>:22: DeprecationWarning: `np.int` is a deprecated alias for the builtin `int`. To silence this warning, use `int` by itself. Doing this will not modify any behavior and is safe. When replacing `np.int`, you may wish to use e.g. `np.int64` or `np.int32` to specify the precision. If you wish to review your current use, check the release note link for additional information.\n",
      "Deprecated in NumPy 1.20; for more details and guidance: https://numpy.org/devdocs/release/1.20.0-notes.html#deprecations\n",
      "  y_train_resampled = np.zeros((len(y_train)), dtype=np.int)\n",
      "<ipython-input-142-b87a0d6a7f67>:22: DeprecationWarning: `np.int` is a deprecated alias for the builtin `int`. To silence this warning, use `int` by itself. Doing this will not modify any behavior and is safe. When replacing `np.int`, you may wish to use e.g. `np.int64` or `np.int32` to specify the precision. If you wish to review your current use, check the release note link for additional information.\n",
      "Deprecated in NumPy 1.20; for more details and guidance: https://numpy.org/devdocs/release/1.20.0-notes.html#deprecations\n",
      "  y_train_resampled = np.zeros((len(y_train)), dtype=np.int)\n",
      "<ipython-input-142-b87a0d6a7f67>:22: DeprecationWarning: `np.int` is a deprecated alias for the builtin `int`. To silence this warning, use `int` by itself. Doing this will not modify any behavior and is safe. When replacing `np.int`, you may wish to use e.g. `np.int64` or `np.int32` to specify the precision. If you wish to review your current use, check the release note link for additional information.\n",
      "Deprecated in NumPy 1.20; for more details and guidance: https://numpy.org/devdocs/release/1.20.0-notes.html#deprecations\n",
      "  y_train_resampled = np.zeros((len(y_train)), dtype=np.int)\n",
      "<ipython-input-142-b87a0d6a7f67>:22: DeprecationWarning: `np.int` is a deprecated alias for the builtin `int`. To silence this warning, use `int` by itself. Doing this will not modify any behavior and is safe. When replacing `np.int`, you may wish to use e.g. `np.int64` or `np.int32` to specify the precision. If you wish to review your current use, check the release note link for additional information.\n",
      "Deprecated in NumPy 1.20; for more details and guidance: https://numpy.org/devdocs/release/1.20.0-notes.html#deprecations\n",
      "  y_train_resampled = np.zeros((len(y_train)), dtype=np.int)\n",
      "<ipython-input-142-b87a0d6a7f67>:22: DeprecationWarning: `np.int` is a deprecated alias for the builtin `int`. To silence this warning, use `int` by itself. Doing this will not modify any behavior and is safe. When replacing `np.int`, you may wish to use e.g. `np.int64` or `np.int32` to specify the precision. If you wish to review your current use, check the release note link for additional information.\n",
      "Deprecated in NumPy 1.20; for more details and guidance: https://numpy.org/devdocs/release/1.20.0-notes.html#deprecations\n",
      "  y_train_resampled = np.zeros((len(y_train)), dtype=np.int)\n",
      "<ipython-input-142-b87a0d6a7f67>:22: DeprecationWarning: `np.int` is a deprecated alias for the builtin `int`. To silence this warning, use `int` by itself. Doing this will not modify any behavior and is safe. When replacing `np.int`, you may wish to use e.g. `np.int64` or `np.int32` to specify the precision. If you wish to review your current use, check the release note link for additional information.\n",
      "Deprecated in NumPy 1.20; for more details and guidance: https://numpy.org/devdocs/release/1.20.0-notes.html#deprecations\n",
      "  y_train_resampled = np.zeros((len(y_train)), dtype=np.int)\n",
      "<ipython-input-142-b87a0d6a7f67>:22: DeprecationWarning: `np.int` is a deprecated alias for the builtin `int`. To silence this warning, use `int` by itself. Doing this will not modify any behavior and is safe. When replacing `np.int`, you may wish to use e.g. `np.int64` or `np.int32` to specify the precision. If you wish to review your current use, check the release note link for additional information.\n",
      "Deprecated in NumPy 1.20; for more details and guidance: https://numpy.org/devdocs/release/1.20.0-notes.html#deprecations\n",
      "  y_train_resampled = np.zeros((len(y_train)), dtype=np.int)\n"
     ]
    },
    {
     "name": "stderr",
     "output_type": "stream",
     "text": [
      "<ipython-input-142-b87a0d6a7f67>:22: DeprecationWarning: `np.int` is a deprecated alias for the builtin `int`. To silence this warning, use `int` by itself. Doing this will not modify any behavior and is safe. When replacing `np.int`, you may wish to use e.g. `np.int64` or `np.int32` to specify the precision. If you wish to review your current use, check the release note link for additional information.\n",
      "Deprecated in NumPy 1.20; for more details and guidance: https://numpy.org/devdocs/release/1.20.0-notes.html#deprecations\n",
      "  y_train_resampled = np.zeros((len(y_train)), dtype=np.int)\n",
      "<ipython-input-142-b87a0d6a7f67>:22: DeprecationWarning: `np.int` is a deprecated alias for the builtin `int`. To silence this warning, use `int` by itself. Doing this will not modify any behavior and is safe. When replacing `np.int`, you may wish to use e.g. `np.int64` or `np.int32` to specify the precision. If you wish to review your current use, check the release note link for additional information.\n",
      "Deprecated in NumPy 1.20; for more details and guidance: https://numpy.org/devdocs/release/1.20.0-notes.html#deprecations\n",
      "  y_train_resampled = np.zeros((len(y_train)), dtype=np.int)\n",
      "<ipython-input-142-b87a0d6a7f67>:22: DeprecationWarning: `np.int` is a deprecated alias for the builtin `int`. To silence this warning, use `int` by itself. Doing this will not modify any behavior and is safe. When replacing `np.int`, you may wish to use e.g. `np.int64` or `np.int32` to specify the precision. If you wish to review your current use, check the release note link for additional information.\n",
      "Deprecated in NumPy 1.20; for more details and guidance: https://numpy.org/devdocs/release/1.20.0-notes.html#deprecations\n",
      "  y_train_resampled = np.zeros((len(y_train)), dtype=np.int)\n",
      "<ipython-input-142-b87a0d6a7f67>:22: DeprecationWarning: `np.int` is a deprecated alias for the builtin `int`. To silence this warning, use `int` by itself. Doing this will not modify any behavior and is safe. When replacing `np.int`, you may wish to use e.g. `np.int64` or `np.int32` to specify the precision. If you wish to review your current use, check the release note link for additional information.\n",
      "Deprecated in NumPy 1.20; for more details and guidance: https://numpy.org/devdocs/release/1.20.0-notes.html#deprecations\n",
      "  y_train_resampled = np.zeros((len(y_train)), dtype=np.int)\n",
      "<ipython-input-142-b87a0d6a7f67>:22: DeprecationWarning: `np.int` is a deprecated alias for the builtin `int`. To silence this warning, use `int` by itself. Doing this will not modify any behavior and is safe. When replacing `np.int`, you may wish to use e.g. `np.int64` or `np.int32` to specify the precision. If you wish to review your current use, check the release note link for additional information.\n",
      "Deprecated in NumPy 1.20; for more details and guidance: https://numpy.org/devdocs/release/1.20.0-notes.html#deprecations\n",
      "  y_train_resampled = np.zeros((len(y_train)), dtype=np.int)\n",
      "<ipython-input-142-b87a0d6a7f67>:22: DeprecationWarning: `np.int` is a deprecated alias for the builtin `int`. To silence this warning, use `int` by itself. Doing this will not modify any behavior and is safe. When replacing `np.int`, you may wish to use e.g. `np.int64` or `np.int32` to specify the precision. If you wish to review your current use, check the release note link for additional information.\n",
      "Deprecated in NumPy 1.20; for more details and guidance: https://numpy.org/devdocs/release/1.20.0-notes.html#deprecations\n",
      "  y_train_resampled = np.zeros((len(y_train)), dtype=np.int)\n",
      "<ipython-input-142-b87a0d6a7f67>:22: DeprecationWarning: `np.int` is a deprecated alias for the builtin `int`. To silence this warning, use `int` by itself. Doing this will not modify any behavior and is safe. When replacing `np.int`, you may wish to use e.g. `np.int64` or `np.int32` to specify the precision. If you wish to review your current use, check the release note link for additional information.\n",
      "Deprecated in NumPy 1.20; for more details and guidance: https://numpy.org/devdocs/release/1.20.0-notes.html#deprecations\n",
      "  y_train_resampled = np.zeros((len(y_train)), dtype=np.int)\n",
      "<ipython-input-142-b87a0d6a7f67>:22: DeprecationWarning: `np.int` is a deprecated alias for the builtin `int`. To silence this warning, use `int` by itself. Doing this will not modify any behavior and is safe. When replacing `np.int`, you may wish to use e.g. `np.int64` or `np.int32` to specify the precision. If you wish to review your current use, check the release note link for additional information.\n",
      "Deprecated in NumPy 1.20; for more details and guidance: https://numpy.org/devdocs/release/1.20.0-notes.html#deprecations\n",
      "  y_train_resampled = np.zeros((len(y_train)), dtype=np.int)\n",
      "<ipython-input-142-b87a0d6a7f67>:22: DeprecationWarning: `np.int` is a deprecated alias for the builtin `int`. To silence this warning, use `int` by itself. Doing this will not modify any behavior and is safe. When replacing `np.int`, you may wish to use e.g. `np.int64` or `np.int32` to specify the precision. If you wish to review your current use, check the release note link for additional information.\n",
      "Deprecated in NumPy 1.20; for more details and guidance: https://numpy.org/devdocs/release/1.20.0-notes.html#deprecations\n",
      "  y_train_resampled = np.zeros((len(y_train)), dtype=np.int)\n",
      "<ipython-input-142-b87a0d6a7f67>:22: DeprecationWarning: `np.int` is a deprecated alias for the builtin `int`. To silence this warning, use `int` by itself. Doing this will not modify any behavior and is safe. When replacing `np.int`, you may wish to use e.g. `np.int64` or `np.int32` to specify the precision. If you wish to review your current use, check the release note link for additional information.\n",
      "Deprecated in NumPy 1.20; for more details and guidance: https://numpy.org/devdocs/release/1.20.0-notes.html#deprecations\n",
      "  y_train_resampled = np.zeros((len(y_train)), dtype=np.int)\n",
      "<ipython-input-142-b87a0d6a7f67>:22: DeprecationWarning: `np.int` is a deprecated alias for the builtin `int`. To silence this warning, use `int` by itself. Doing this will not modify any behavior and is safe. When replacing `np.int`, you may wish to use e.g. `np.int64` or `np.int32` to specify the precision. If you wish to review your current use, check the release note link for additional information.\n",
      "Deprecated in NumPy 1.20; for more details and guidance: https://numpy.org/devdocs/release/1.20.0-notes.html#deprecations\n",
      "  y_train_resampled = np.zeros((len(y_train)), dtype=np.int)\n",
      "<ipython-input-142-b87a0d6a7f67>:22: DeprecationWarning: `np.int` is a deprecated alias for the builtin `int`. To silence this warning, use `int` by itself. Doing this will not modify any behavior and is safe. When replacing `np.int`, you may wish to use e.g. `np.int64` or `np.int32` to specify the precision. If you wish to review your current use, check the release note link for additional information.\n",
      "Deprecated in NumPy 1.20; for more details and guidance: https://numpy.org/devdocs/release/1.20.0-notes.html#deprecations\n",
      "  y_train_resampled = np.zeros((len(y_train)), dtype=np.int)\n",
      "<ipython-input-142-b87a0d6a7f67>:22: DeprecationWarning: `np.int` is a deprecated alias for the builtin `int`. To silence this warning, use `int` by itself. Doing this will not modify any behavior and is safe. When replacing `np.int`, you may wish to use e.g. `np.int64` or `np.int32` to specify the precision. If you wish to review your current use, check the release note link for additional information.\n",
      "Deprecated in NumPy 1.20; for more details and guidance: https://numpy.org/devdocs/release/1.20.0-notes.html#deprecations\n",
      "  y_train_resampled = np.zeros((len(y_train)), dtype=np.int)\n",
      "<ipython-input-142-b87a0d6a7f67>:22: DeprecationWarning: `np.int` is a deprecated alias for the builtin `int`. To silence this warning, use `int` by itself. Doing this will not modify any behavior and is safe. When replacing `np.int`, you may wish to use e.g. `np.int64` or `np.int32` to specify the precision. If you wish to review your current use, check the release note link for additional information.\n",
      "Deprecated in NumPy 1.20; for more details and guidance: https://numpy.org/devdocs/release/1.20.0-notes.html#deprecations\n",
      "  y_train_resampled = np.zeros((len(y_train)), dtype=np.int)\n"
     ]
    },
    {
     "name": "stderr",
     "output_type": "stream",
     "text": [
      "<ipython-input-142-b87a0d6a7f67>:22: DeprecationWarning: `np.int` is a deprecated alias for the builtin `int`. To silence this warning, use `int` by itself. Doing this will not modify any behavior and is safe. When replacing `np.int`, you may wish to use e.g. `np.int64` or `np.int32` to specify the precision. If you wish to review your current use, check the release note link for additional information.\n",
      "Deprecated in NumPy 1.20; for more details and guidance: https://numpy.org/devdocs/release/1.20.0-notes.html#deprecations\n",
      "  y_train_resampled = np.zeros((len(y_train)), dtype=np.int)\n",
      "<ipython-input-142-b87a0d6a7f67>:22: DeprecationWarning: `np.int` is a deprecated alias for the builtin `int`. To silence this warning, use `int` by itself. Doing this will not modify any behavior and is safe. When replacing `np.int`, you may wish to use e.g. `np.int64` or `np.int32` to specify the precision. If you wish to review your current use, check the release note link for additional information.\n",
      "Deprecated in NumPy 1.20; for more details and guidance: https://numpy.org/devdocs/release/1.20.0-notes.html#deprecations\n",
      "  y_train_resampled = np.zeros((len(y_train)), dtype=np.int)\n",
      "<ipython-input-142-b87a0d6a7f67>:22: DeprecationWarning: `np.int` is a deprecated alias for the builtin `int`. To silence this warning, use `int` by itself. Doing this will not modify any behavior and is safe. When replacing `np.int`, you may wish to use e.g. `np.int64` or `np.int32` to specify the precision. If you wish to review your current use, check the release note link for additional information.\n",
      "Deprecated in NumPy 1.20; for more details and guidance: https://numpy.org/devdocs/release/1.20.0-notes.html#deprecations\n",
      "  y_train_resampled = np.zeros((len(y_train)), dtype=np.int)\n",
      "<ipython-input-142-b87a0d6a7f67>:22: DeprecationWarning: `np.int` is a deprecated alias for the builtin `int`. To silence this warning, use `int` by itself. Doing this will not modify any behavior and is safe. When replacing `np.int`, you may wish to use e.g. `np.int64` or `np.int32` to specify the precision. If you wish to review your current use, check the release note link for additional information.\n",
      "Deprecated in NumPy 1.20; for more details and guidance: https://numpy.org/devdocs/release/1.20.0-notes.html#deprecations\n",
      "  y_train_resampled = np.zeros((len(y_train)), dtype=np.int)\n",
      "<ipython-input-142-b87a0d6a7f67>:22: DeprecationWarning: `np.int` is a deprecated alias for the builtin `int`. To silence this warning, use `int` by itself. Doing this will not modify any behavior and is safe. When replacing `np.int`, you may wish to use e.g. `np.int64` or `np.int32` to specify the precision. If you wish to review your current use, check the release note link for additional information.\n",
      "Deprecated in NumPy 1.20; for more details and guidance: https://numpy.org/devdocs/release/1.20.0-notes.html#deprecations\n",
      "  y_train_resampled = np.zeros((len(y_train)), dtype=np.int)\n",
      "<ipython-input-142-b87a0d6a7f67>:22: DeprecationWarning: `np.int` is a deprecated alias for the builtin `int`. To silence this warning, use `int` by itself. Doing this will not modify any behavior and is safe. When replacing `np.int`, you may wish to use e.g. `np.int64` or `np.int32` to specify the precision. If you wish to review your current use, check the release note link for additional information.\n",
      "Deprecated in NumPy 1.20; for more details and guidance: https://numpy.org/devdocs/release/1.20.0-notes.html#deprecations\n",
      "  y_train_resampled = np.zeros((len(y_train)), dtype=np.int)\n",
      "<ipython-input-142-b87a0d6a7f67>:22: DeprecationWarning: `np.int` is a deprecated alias for the builtin `int`. To silence this warning, use `int` by itself. Doing this will not modify any behavior and is safe. When replacing `np.int`, you may wish to use e.g. `np.int64` or `np.int32` to specify the precision. If you wish to review your current use, check the release note link for additional information.\n",
      "Deprecated in NumPy 1.20; for more details and guidance: https://numpy.org/devdocs/release/1.20.0-notes.html#deprecations\n",
      "  y_train_resampled = np.zeros((len(y_train)), dtype=np.int)\n",
      "<ipython-input-142-b87a0d6a7f67>:22: DeprecationWarning: `np.int` is a deprecated alias for the builtin `int`. To silence this warning, use `int` by itself. Doing this will not modify any behavior and is safe. When replacing `np.int`, you may wish to use e.g. `np.int64` or `np.int32` to specify the precision. If you wish to review your current use, check the release note link for additional information.\n",
      "Deprecated in NumPy 1.20; for more details and guidance: https://numpy.org/devdocs/release/1.20.0-notes.html#deprecations\n",
      "  y_train_resampled = np.zeros((len(y_train)), dtype=np.int)\n"
     ]
    },
    {
     "data": {
      "text/plain": [
       "AdaBoostClassifier(base_estimator=customMLPClassifer(alpha=1e-05, batch_size=20,\n",
       "                                                     hidden_layer_sizes=(20,\n",
       "                                                                         10),\n",
       "                                                     max_iter=5000,\n",
       "                                                     random_state=None,\n",
       "                                                     solver='adam'),\n",
       "                   learning_rate=1)"
      ]
     },
     "execution_count": 144,
     "metadata": {},
     "output_type": "execute_result"
    }
   ],
   "source": [
    "adabooster.fit(x_lf2,y_lf2)"
   ]
  },
  {
   "cell_type": "code",
   "execution_count": 145,
   "metadata": {},
   "outputs": [
    {
     "name": "stdout",
     "output_type": "stream",
     "text": [
      "[0 0 0 0 1 0 0 0 0 0 1 1 0 1 0 0 1 0 1 1 1 1 0 1 0 1 0 0 0 0 0 1 0 1 0 0 1\n",
      " 0 0 1 0 0 0 1 0 1 0 0 0 1 0 1 1 0 1 0 0 0 0 0 1 1 0 0 1 0 1 1 0 1 1 0 0 0]\n"
     ]
    }
   ],
   "source": [
    "sk_result_boosted = adabooster.predict(t_lf2)\n",
    "print(sk_result_boosted)"
   ]
  },
  {
   "cell_type": "code",
   "execution_count": 146,
   "metadata": {},
   "outputs": [
    {
     "name": "stdout",
     "output_type": "stream",
     "text": [
      "checking the differences between P8 code and sk_learn BOOSTED estimator\n",
      "[0 0 0 0 0 0 0 0 0 0 0 0 0 0 0 0 0 0 0 0 0 0 0 0 0 0 0 0 0 0 0 0 0 0 0 0 0\n",
      " 0 0 0 0 0 0 0 0 0 0 0 0 0 0 0 0 0 0 0 0 0 0 0 0 0 0 0 0 0 0 0 0 0 0 0 0 0]\n",
      "\n",
      "\n",
      "checking the differences between sk_learn base estimator and sk_learn BOOSTED estimator\n",
      "[ 0  0  0 -1  0  0  0  0  0  0  0  0  0  0  0  0  0  0  0  0  0  0  0  0\n",
      "  0  0  0  0  0  0  0  0  0  0  0  0  0  0  0  0  0  0  0  0  0  0  0  0\n",
      "  0  0  0  0  0  0  0  0  0  0  0  0  0  0  0 -1  0  0  1  0  0  0  0  0\n",
      "  0  0]\n"
     ]
    }
   ],
   "source": [
    "print(\"checking the differences between P8 code and sk_learn BOOSTED estimator\")\n",
    "print(np.array(results)-np.array(sk_result_boosted))\n",
    "print(\"\\n\")\n",
    "print(\"checking the differences between sk_learn base estimator and sk_learn BOOSTED estimator\")\n",
    "print(np.array(sk_result_boosted)-np.array(sk_result))"
   ]
  },
  {
   "cell_type": "code",
   "execution_count": 147,
   "metadata": {},
   "outputs": [],
   "source": [
    "final_lf = sk_result_boosted"
   ]
  },
  {
   "cell_type": "code",
   "execution_count": 148,
   "metadata": {},
   "outputs": [
    {
     "name": "stdout",
     "output_type": "stream",
     "text": [
      "[0 0 0 0 1 0 0 0 0 0 1 1 0 1 0 0 1 0 1 1 1 1 0 1 0 1 0 0 0 0 0 1 0 1 0 0 1\n",
      " 0 0 1 0 0 0 1 0 1 0 0 0 1 0 1 1 0 1 0 0 0 0 0 1 1 0 0 1 0 1 1 0 1 1 0 0 0]\n"
     ]
    }
   ],
   "source": [
    "print(final_lf)"
   ]
  },
  {
   "cell_type": "markdown",
   "metadata": {},
   "source": [
    "# STEP 3: Make Output Files"
   ]
  },
  {
   "cell_type": "code",
   "execution_count": 149,
   "metadata": {},
   "outputs": [],
   "source": [
    "import csv\n",
    "\n",
    "rows = zip(t_id_arr, final_lf)\n"
   ]
  },
  {
   "cell_type": "code",
   "execution_count": 150,
   "metadata": {},
   "outputs": [],
   "source": [
    "# Write the tuples to a CSV file\n",
    "\n",
    "csv_file_name = leg + \"_test_labels.csv\"\n",
    "\n",
    "with open(csv_file_name, 'w', newline='') as csvfile:\n",
    "    writer = csv.writer(csvfile)\n",
    "    writer.writerow(['id', leg]) # write header row\n",
    "    writer.writerows(rows)"
   ]
  },
  {
   "cell_type": "code",
   "execution_count": 153,
   "metadata": {},
   "outputs": [],
   "source": [
    "def make_sub():\n",
    "\n",
    "    \"\"\"\n",
    "    This is a file that will help you convert your individual predictions to the final prediction. \n",
    "    In the same directory as this file, you should have the following 4 files:\n",
    "      - LF_test_labels.csv - with at least two columns, 'id' and 'LF'\n",
    "      - LH_test_labels.csv - with at least two columns, 'id' and 'LH'\n",
    "      - RF_test_labels.csv - with at least two columns, 'id' and 'RF'\n",
    "      - RH_test_labels.csv - with at least two columns, 'id' and 'RH'\n",
    "\n",
    "    Running this script will convert these four files into a single CSV file, submission.csv, by\n",
    "    mutating the IDs so that they also include the leg that is being checked.\n",
    "    \"\"\"\n",
    "\n",
    "    legs = [\"LF\", \"LH\", \"RF\", \"RH\"]\n",
    "\n",
    "    dfs = []\n",
    "\n",
    "    for leg in legs:\n",
    "        # read in the file\n",
    "        test_prediction = pd.read_csv(f\"{leg}_test_labels.csv\")\n",
    "        # append the abbreviation for the leg\n",
    "        test_prediction['id'] = test_prediction['id'].astype(str) + f\"_{leg}\"\n",
    "        # rename the label column\n",
    "        test_prediction['label'] = test_prediction[leg]\n",
    "        # exclude any potential additional columns\n",
    "        dfs.append(test_prediction[['id', 'label']])\n",
    "\n",
    "    final_df = pd.concat(dfs)\n",
    "    final_df.to_csv(\"submission.csv\", index=False)\n",
    "\n"
   ]
  },
  {
   "cell_type": "code",
   "execution_count": 154,
   "metadata": {},
   "outputs": [],
   "source": [
    "make_sub()"
   ]
  },
  {
   "cell_type": "code",
   "execution_count": null,
   "metadata": {
    "scrolled": true
   },
   "outputs": [],
   "source": []
  },
  {
   "cell_type": "code",
   "execution_count": null,
   "metadata": {},
   "outputs": [],
   "source": []
  }
 ],
 "metadata": {
  "kernelspec": {
   "display_name": "Python 3",
   "language": "python",
   "name": "python3"
  },
  "language_info": {
   "codemirror_mode": {
    "name": "ipython",
    "version": 3
   },
   "file_extension": ".py",
   "mimetype": "text/x-python",
   "name": "python",
   "nbconvert_exporter": "python",
   "pygments_lexer": "ipython3",
   "version": "3.8.8"
  }
 },
 "nbformat": 4,
 "nbformat_minor": 4
}
